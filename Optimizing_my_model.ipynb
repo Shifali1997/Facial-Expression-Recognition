{
  "nbformat": 4,
  "nbformat_minor": 0,
  "metadata": {
    "colab": {
      "name": "Optimizing my model.ipynb",
      "provenance": []
    },
    "kernelspec": {
      "name": "python3",
      "display_name": "Python 3"
    },
    "accelerator": "GPU"
  },
  "cells": [
    {
      "cell_type": "markdown",
      "metadata": {
        "id": "rTmW5mS4GP04"
      },
      "source": [
        "**Loading Libraries**"
      ]
    },
    {
      "cell_type": "code",
      "metadata": {
        "id": "kkTXhYgdfaai"
      },
      "source": [
        "#Import Libraries\n",
        "import tensorflow as tf\n",
        "from tensorflow import keras\n",
        "import numpy as np\n",
        "import pandas as pd\n",
        "import cv2\n",
        "import os\n",
        "import matplotlib.pyplot as plt\n",
        "%matplotlib inline\n",
        "\n",
        "from tensorflow.keras.preprocessing.image import ImageDataGenerator, load_img, img_to_array\n",
        "from tensorflow.keras.utils import plot_model\n",
        "import plotly.graph_objects as go\n",
        "from plotly.subplots import make_subplots\n",
        "from IPython.display import SVG, Image\n",
        "import tensorflow as tf"
      ],
      "execution_count": null,
      "outputs": []
    },
    {
      "cell_type": "markdown",
      "metadata": {
        "id": "Q1GkdA60Gf54"
      },
      "source": [
        "**Load dataset**"
      ]
    },
    {
      "cell_type": "code",
      "metadata": {
        "id": "f5iUnfYdgGwO"
      },
      "source": [
        "train = pd.read_csv('/content/drive/My Drive/Kaggel Competition/train.csv')"
      ],
      "execution_count": null,
      "outputs": []
    },
    {
      "cell_type": "code",
      "metadata": {
        "id": "-CuVBVNHgHBO",
        "outputId": "85d7a8be-0666-46c7-fe18-f77cc27a63b0",
        "colab": {
          "base_uri": "https://localhost:8080/"
        }
      },
      "source": [
        "#To split the the sequence of numbers and then store them in a array\n",
        "#then reshape to (48,48,1) having type 'uint8'i.e values between 0 to 255\n",
        "img_array = train.pixels.apply(lambda x: np.array(x.split(' ')).reshape(48, 48,1).astype('uint8'))\n",
        "print(img_array.ndim)\n",
        "print(img_array.shape)\n",
        "#Join a sequence of arrays along a new axis. The axis parameter specifies the index of the new axis\n",
        "#in the dimensions of the result. For example, if axis=0 it will be the first dimension\n",
        "#img_array=img_array.reshape(len,48,48,1)\n",
        "img_array = np.stack(img_array, axis=0)\n",
        "print(img_array.ndim)\n",
        "print(img_array.shape)"
      ],
      "execution_count": null,
      "outputs": [
        {
          "output_type": "stream",
          "text": [
            "1\n",
            "(28709,)\n",
            "4\n",
            "(28709, 48, 48, 1)\n"
          ],
          "name": "stdout"
        }
      ]
    },
    {
      "cell_type": "code",
      "metadata": {
        "id": "G1tIncbugHFf",
        "outputId": "2a5df91f-8843-421a-d517-7bf8e9c41a42",
        "colab": {
          "base_uri": "https://localhost:8080/"
        }
      },
      "source": [
        "from sklearn.preprocessing import LabelEncoder\n",
        "from keras.utils import np_utils\n",
        "\n",
        "le = LabelEncoder()\n",
        "img_labels = le.fit_transform(train.emotion)\n",
        "img_labels = np_utils.to_categorical(img_labels)\n",
        "img_labels.shape"
      ],
      "execution_count": null,
      "outputs": [
        {
          "output_type": "execute_result",
          "data": {
            "text/plain": [
              "(28709, 7)"
            ]
          },
          "metadata": {
            "tags": []
          },
          "execution_count": 4
        }
      ]
    },
    {
      "cell_type": "code",
      "metadata": {
        "id": "n5YwN-eFgG-n",
        "outputId": "7aaca62e-dbf5-4a6c-c394-e916964470a3",
        "colab": {
          "base_uri": "https://localhost:8080/"
        }
      },
      "source": [
        "#Splitting dataset into train and test\n",
        "from sklearn.model_selection import train_test_split\n",
        "X_train, X_valid, y_train, y_valid = train_test_split(img_array, img_labels,\n",
        "                                                      test_size=0.2, random_state=42)\n",
        "X_train.shape, X_valid.shape, y_train.shape, y_valid.shape"
      ],
      "execution_count": null,
      "outputs": [
        {
          "output_type": "execute_result",
          "data": {
            "text/plain": [
              "((22967, 48, 48, 1), (5742, 48, 48, 1), (22967, 7), (5742, 7))"
            ]
          },
          "metadata": {
            "tags": []
          },
          "execution_count": 5
        }
      ]
    },
    {
      "cell_type": "code",
      "metadata": {
        "id": "Wwy2ob22gXiX"
      },
      "source": [
        "#Now we will scale the values between 0 to 1 i.e to get grayscale and the shape of the input image data will be \n",
        "#changed to (samples, height, width, channels) format by default in ImageDataGenerator\n",
        "train_datagen = ImageDataGenerator(\n",
        "\t\t\t\t\trescale=1./255,      # we multiply the data by the value provided \n",
        "\t\t\t\t\thorizontal_flip=True)\n",
        "train_datagen.fit(X_train)\n",
        "#train_data = train_datagen.flow(X_train, y_train ,batch_size=25)\n",
        "\n",
        "val_datagen = ImageDataGenerator(\n",
        "\t\t\t\t\trescale=1./255,      # we multiply the data by the value provided \n",
        "\t\t\t\t\thorizontal_flip=True)\n",
        "val_datagen.fit(X_valid)\n",
        "#val_data = val_datagen.flow(X_valid, y_valid ,batch_size=32)\n"
      ],
      "execution_count": null,
      "outputs": []
    },
    {
      "cell_type": "code",
      "metadata": {
        "id": "7cAf4nHVgXfw"
      },
      "source": [
        "def build_model(hp):  \n",
        "  model = keras.Sequential([\n",
        "    keras.layers.Conv2D(\n",
        "        filters=hp.Int('conv_1_filter', min_value=32, max_value=512, step=16),\n",
        "        kernel_size=hp.Choice('conv_1_kernel', values = [3,5]),\n",
        "        activation='relu',\n",
        "        input_shape=(48,48,1),padding='same'),\n",
        "    keras.layers.BatchNormalization(),\n",
        "    keras.layers.MaxPooling2D(pool_size=hp.Choice('conv_1_pool', values = [2,4])),\n",
        "    keras.layers.Dropout(rate = hp.Float('conv_1_dropout', min_value=0.0, max_value=0.5, step=0.05)),\n",
        "\n",
        "    keras.layers.Conv2D(\n",
        "        filters=hp.Int('conv_2_filter', min_value=32, max_value=512, step=16),\n",
        "        kernel_size=hp.Choice('conv_2_kernel', values = [3,5]),\n",
        "        activation='relu',padding='same'),\n",
        "    keras.layers.BatchNormalization(),\n",
        "    keras.layers.MaxPooling2D(pool_size=(2,2)),\n",
        "    keras.layers.Dropout(rate = hp.Float('conv_2_dropout', min_value=0.0, max_value=0.5, step=0.05)),\n",
        "\n",
        "    keras.layers.Conv2D(\n",
        "        filters=hp.Int('conv_3_filter', min_value=32, max_value=512, step=16),\n",
        "        kernel_size=hp.Choice('conv_3_kernel', values = [3,5]),\n",
        "        activation='relu',padding='same'),\n",
        "    keras.layers.BatchNormalization(),\n",
        "    keras.layers.MaxPooling2D(pool_size=(2,2)),\n",
        "    keras.layers.Dropout(rate = hp.Float('conv_3_dropout', min_value=0.0, max_value=0.5, step=0.05)),\n",
        "\n",
        "    keras.layers.Conv2D(\n",
        "        filters=hp.Int('conv_3_filter', min_value=32, max_value=512, step=16),\n",
        "        kernel_size=hp.Choice('conv_3_kernel', values = [3,5]),\n",
        "        activation='relu',padding='same'),\n",
        "    keras.layers.BatchNormalization(),\n",
        "    keras.layers.MaxPooling2D(pool_size=(2,2)),\n",
        "    keras.layers.Dropout(rate = hp.Float('conv_3_dropout', min_value=0.0, max_value=0.5, step=0.05)),\n",
        "\n",
        "    keras.layers.Flatten(),\n",
        "\n",
        "    keras.layers.Dense(\n",
        "        units=hp.Int('dense_1_units', min_value=32, max_value=512, step=16),\n",
        "        activation='relu'),\n",
        "    keras.layers.BatchNormalization(),\n",
        "    keras.layers.Dropout(rate = hp.Float('dense_1_dropout', min_value=0.0, max_value=0.5, step=0.05)),\n",
        "\n",
        "    keras.layers.Dense(\n",
        "        units=hp.Int('dense_2_units', min_value=32, max_value=512, step=16),\n",
        "        activation='relu'),\n",
        "    keras.layers.BatchNormalization(),\n",
        "    keras.layers.Dropout(rate = hp.Float('dense_2_dropout', min_value=0.0, max_value=0.5, step=0.05)),\n",
        "\n",
        "    keras.layers.Dense(7, activation='softmax')\n",
        "  ])\n",
        "  \n",
        "  model.compile(optimizer = keras.optimizers.Adam(hp.Float('learning_rate',\n",
        "                    min_value=1e-4,\n",
        "                    max_value=1e-2,\n",
        "                    sampling='LOG')),\n",
        "              loss=tf.keras.losses.CategoricalCrossentropy(),\n",
        "              metrics=['accuracy'])\n",
        "  \n",
        "  return model"
      ],
      "execution_count": null,
      "outputs": []
    },
    {
      "cell_type": "code",
      "metadata": {
        "id": "SFsZ7hjGgXbH",
        "outputId": "cf7f1089-5735-4fb5-8fde-36ffb918e7e6",
        "colab": {
          "base_uri": "https://localhost:8080/"
        }
      },
      "source": [
        "pip install keras-tuner"
      ],
      "execution_count": null,
      "outputs": [
        {
          "output_type": "stream",
          "text": [
            "Collecting keras-tuner\n",
            "\u001b[?25l  Downloading https://files.pythonhosted.org/packages/a7/f7/4b41b6832abf4c9bef71a664dc563adb25afc5812831667c6db572b1a261/keras-tuner-1.0.1.tar.gz (54kB)\n",
            "\r\u001b[K     |██████                          | 10kB 16.6MB/s eta 0:00:01\r\u001b[K     |████████████                    | 20kB 1.8MB/s eta 0:00:01\r\u001b[K     |██████████████████              | 30kB 2.3MB/s eta 0:00:01\r\u001b[K     |████████████████████████        | 40kB 2.5MB/s eta 0:00:01\r\u001b[K     |██████████████████████████████  | 51kB 2.0MB/s eta 0:00:01\r\u001b[K     |████████████████████████████████| 61kB 1.8MB/s \n",
            "\u001b[?25hRequirement already satisfied: future in /usr/local/lib/python3.6/dist-packages (from keras-tuner) (0.16.0)\n",
            "Requirement already satisfied: numpy in /usr/local/lib/python3.6/dist-packages (from keras-tuner) (1.18.5)\n",
            "Requirement already satisfied: tabulate in /usr/local/lib/python3.6/dist-packages (from keras-tuner) (0.8.7)\n",
            "Collecting terminaltables\n",
            "  Downloading https://files.pythonhosted.org/packages/9b/c4/4a21174f32f8a7e1104798c445dacdc1d4df86f2f26722767034e4de4bff/terminaltables-3.1.0.tar.gz\n",
            "Collecting colorama\n",
            "  Downloading https://files.pythonhosted.org/packages/44/98/5b86278fbbf250d239ae0ecb724f8572af1c91f4a11edf4d36a206189440/colorama-0.4.4-py2.py3-none-any.whl\n",
            "Requirement already satisfied: tqdm in /usr/local/lib/python3.6/dist-packages (from keras-tuner) (4.41.1)\n",
            "Requirement already satisfied: requests in /usr/local/lib/python3.6/dist-packages (from keras-tuner) (2.23.0)\n",
            "Requirement already satisfied: scipy in /usr/local/lib/python3.6/dist-packages (from keras-tuner) (1.4.1)\n",
            "Requirement already satisfied: scikit-learn in /usr/local/lib/python3.6/dist-packages (from keras-tuner) (0.22.2.post1)\n",
            "Requirement already satisfied: chardet<4,>=3.0.2 in /usr/local/lib/python3.6/dist-packages (from requests->keras-tuner) (3.0.4)\n",
            "Requirement already satisfied: idna<3,>=2.5 in /usr/local/lib/python3.6/dist-packages (from requests->keras-tuner) (2.10)\n",
            "Requirement already satisfied: certifi>=2017.4.17 in /usr/local/lib/python3.6/dist-packages (from requests->keras-tuner) (2020.6.20)\n",
            "Requirement already satisfied: urllib3!=1.25.0,!=1.25.1,<1.26,>=1.21.1 in /usr/local/lib/python3.6/dist-packages (from requests->keras-tuner) (1.24.3)\n",
            "Requirement already satisfied: joblib>=0.11 in /usr/local/lib/python3.6/dist-packages (from scikit-learn->keras-tuner) (0.17.0)\n",
            "Building wheels for collected packages: keras-tuner, terminaltables\n",
            "  Building wheel for keras-tuner (setup.py) ... \u001b[?25l\u001b[?25hdone\n",
            "  Created wheel for keras-tuner: filename=keras_tuner-1.0.1-cp36-none-any.whl size=73200 sha256=1f627ab58c8b2925cc74c5afbd39c1fef31bf0b566b7882232e8716ef03f40bb\n",
            "  Stored in directory: /root/.cache/pip/wheels/b9/cc/62/52716b70dd90f3db12519233c3a93a5360bc672da1a10ded43\n",
            "  Building wheel for terminaltables (setup.py) ... \u001b[?25l\u001b[?25hdone\n",
            "  Created wheel for terminaltables: filename=terminaltables-3.1.0-cp36-none-any.whl size=15356 sha256=6db6ee89abc3304e43e86c13dce24fb917a110e124ef03812fa856d478d13209\n",
            "  Stored in directory: /root/.cache/pip/wheels/30/6b/50/6c75775b681fb36cdfac7f19799888ef9d8813aff9e379663e\n",
            "Successfully built keras-tuner terminaltables\n",
            "Installing collected packages: terminaltables, colorama, keras-tuner\n",
            "Successfully installed colorama-0.4.4 keras-tuner-1.0.1 terminaltables-3.1.0\n"
          ],
          "name": "stdout"
        }
      ]
    },
    {
      "cell_type": "code",
      "metadata": {
        "id": "Z5_XzVAngqF5"
      },
      "source": [
        "# RandomSearch will search for the best parameters\n",
        "from kerastuner import RandomSearch\n",
        "from kerastuner.engine.hyperparameters import HyperParameters"
      ],
      "execution_count": null,
      "outputs": []
    },
    {
      "cell_type": "code",
      "metadata": {
        "id": "7H_WpP1fgsuO",
        "outputId": "09e05cb5-f8fd-492c-80d3-40aa25023bdc",
        "colab": {
          "base_uri": "https://localhost:8080/"
        }
      },
      "source": [
        "# Here we will do 5 different trials. \n",
        "tuner_search = RandomSearch(build_model ,\n",
        "                          objective='val_accuracy',\n",
        "                          max_trials=3,directory='output',project_name=\"Project2\")"
      ],
      "execution_count": null,
      "outputs": [
        {
          "output_type": "stream",
          "text": [
            "INFO:tensorflow:Reloading Oracle from existing project output/Project2/oracle.json\n",
            "INFO:tensorflow:Reloading Tuner from output/Project2/tuner0.json\n"
          ],
          "name": "stdout"
        }
      ]
    },
    {
      "cell_type": "code",
      "metadata": {
        "id": "O0X1PXPagwqh",
        "outputId": "dc5c1cd8-154b-4c7a-bc6f-c592afc1b1bc",
        "colab": {
          "base_uri": "https://localhost:8080/"
        }
      },
      "source": [
        "tuner_search.search(img_array, img_labels,epochs=50,validation_split=0.1)"
      ],
      "execution_count": null,
      "outputs": [
        {
          "output_type": "stream",
          "text": [
            "INFO:tensorflow:Oracle triggered exit\n"
          ],
          "name": "stdout"
        }
      ]
    },
    {
      "cell_type": "code",
      "metadata": {
        "id": "ue41RsbIg8tl"
      },
      "source": [
        "model=tuner_search.get_best_models(num_models=1)[0]"
      ],
      "execution_count": null,
      "outputs": []
    },
    {
      "cell_type": "code",
      "metadata": {
        "id": "glJc5cZTg8qa",
        "outputId": "0e405cd4-d3b8-486f-b41c-dca3f8003727",
        "colab": {
          "base_uri": "https://localhost:8080/"
        }
      },
      "source": [
        "model.summary()"
      ],
      "execution_count": null,
      "outputs": [
        {
          "output_type": "stream",
          "text": [
            "Model: \"sequential\"\n",
            "_________________________________________________________________\n",
            "Layer (type)                 Output Shape              Param #   \n",
            "=================================================================\n",
            "conv2d (Conv2D)              (None, 48, 48, 208)       5408      \n",
            "_________________________________________________________________\n",
            "batch_normalization (BatchNo (None, 48, 48, 208)       832       \n",
            "_________________________________________________________________\n",
            "max_pooling2d (MaxPooling2D) (None, 24, 24, 208)       0         \n",
            "_________________________________________________________________\n",
            "dropout (Dropout)            (None, 24, 24, 208)       0         \n",
            "_________________________________________________________________\n",
            "conv2d_1 (Conv2D)            (None, 24, 24, 384)       719232    \n",
            "_________________________________________________________________\n",
            "batch_normalization_1 (Batch (None, 24, 24, 384)       1536      \n",
            "_________________________________________________________________\n",
            "max_pooling2d_1 (MaxPooling2 (None, 12, 12, 384)       0         \n",
            "_________________________________________________________________\n",
            "dropout_1 (Dropout)          (None, 12, 12, 384)       0         \n",
            "_________________________________________________________________\n",
            "conv2d_2 (Conv2D)            (None, 12, 12, 432)       4147632   \n",
            "_________________________________________________________________\n",
            "batch_normalization_2 (Batch (None, 12, 12, 432)       1728      \n",
            "_________________________________________________________________\n",
            "max_pooling2d_2 (MaxPooling2 (None, 6, 6, 432)         0         \n",
            "_________________________________________________________________\n",
            "dropout_2 (Dropout)          (None, 6, 6, 432)         0         \n",
            "_________________________________________________________________\n",
            "conv2d_3 (Conv2D)            (None, 6, 6, 432)         4666032   \n",
            "_________________________________________________________________\n",
            "batch_normalization_3 (Batch (None, 6, 6, 432)         1728      \n",
            "_________________________________________________________________\n",
            "max_pooling2d_3 (MaxPooling2 (None, 3, 3, 432)         0         \n",
            "_________________________________________________________________\n",
            "dropout_3 (Dropout)          (None, 3, 3, 432)         0         \n",
            "_________________________________________________________________\n",
            "flatten (Flatten)            (None, 3888)              0         \n",
            "_________________________________________________________________\n",
            "dense (Dense)                (None, 224)               871136    \n",
            "_________________________________________________________________\n",
            "batch_normalization_4 (Batch (None, 224)               896       \n",
            "_________________________________________________________________\n",
            "dropout_4 (Dropout)          (None, 224)               0         \n",
            "_________________________________________________________________\n",
            "dense_1 (Dense)              (None, 128)               28800     \n",
            "_________________________________________________________________\n",
            "batch_normalization_5 (Batch (None, 128)               512       \n",
            "_________________________________________________________________\n",
            "dropout_5 (Dropout)          (None, 128)               0         \n",
            "_________________________________________________________________\n",
            "dense_2 (Dense)              (None, 7)                 903       \n",
            "=================================================================\n",
            "Total params: 10,446,375\n",
            "Trainable params: 10,442,759\n",
            "Non-trainable params: 3,616\n",
            "_________________________________________________________________\n"
          ],
          "name": "stdout"
        }
      ]
    },
    {
      "cell_type": "code",
      "metadata": {
        "id": "qNKLs4330m9P",
        "outputId": "e40f9ba3-f96d-405f-a77c-0c3d98182f9c",
        "colab": {
          "base_uri": "https://localhost:8080/"
        }
      },
      "source": [
        "batch_size = 32 #batch size of 32 performs the best.\n",
        "epochs = 50\n",
        "opt = model.fit(\n",
        "    train_datagen.flow(X_train, y_train, batch_size=batch_size),\n",
        "    steps_per_epoch=len(X_train) // batch_size,\n",
        "    epochs=epochs,\n",
        "    validation_data = val_datagen.flow(X_valid, y_valid, batch_size=batch_size)\n",
        "    )"
      ],
      "execution_count": null,
      "outputs": [
        {
          "output_type": "stream",
          "text": [
            "Epoch 1/50\n",
            "717/717 [==============================] - 23s 32ms/step - loss: 1.0672 - accuracy: 0.6544 - val_loss: 3.3038 - val_accuracy: 0.1304\n",
            "Epoch 2/50\n",
            "717/717 [==============================] - 23s 32ms/step - loss: 0.8407 - accuracy: 0.7070 - val_loss: 0.7039 - val_accuracy: 0.7626\n",
            "Epoch 3/50\n",
            "717/717 [==============================] - 23s 31ms/step - loss: 0.7807 - accuracy: 0.7326 - val_loss: 0.7013 - val_accuracy: 0.7591\n",
            "Epoch 4/50\n",
            "717/717 [==============================] - 23s 32ms/step - loss: 0.7389 - accuracy: 0.7468 - val_loss: 0.8745 - val_accuracy: 0.6907\n",
            "Epoch 5/50\n",
            "717/717 [==============================] - 23s 32ms/step - loss: 0.6917 - accuracy: 0.7629 - val_loss: 0.6745 - val_accuracy: 0.7743\n",
            "Epoch 6/50\n",
            "717/717 [==============================] - 23s 32ms/step - loss: 0.6530 - accuracy: 0.7740 - val_loss: 0.7159 - val_accuracy: 0.7525\n",
            "Epoch 7/50\n",
            "717/717 [==============================] - 23s 31ms/step - loss: 0.6250 - accuracy: 0.7844 - val_loss: 0.7794 - val_accuracy: 0.7353\n",
            "Epoch 8/50\n",
            "717/717 [==============================] - 22s 31ms/step - loss: 0.5942 - accuracy: 0.7944 - val_loss: 0.7341 - val_accuracy: 0.7515\n",
            "Epoch 9/50\n",
            "717/717 [==============================] - 23s 32ms/step - loss: 0.5566 - accuracy: 0.8096 - val_loss: 1.2434 - val_accuracy: 0.6310\n",
            "Epoch 10/50\n",
            "717/717 [==============================] - 23s 32ms/step - loss: 0.5298 - accuracy: 0.8190 - val_loss: 1.3157 - val_accuracy: 0.5932\n",
            "Epoch 11/50\n",
            "717/717 [==============================] - 23s 31ms/step - loss: 0.5103 - accuracy: 0.8235 - val_loss: 0.7379 - val_accuracy: 0.7555\n",
            "Epoch 12/50\n",
            "717/717 [==============================] - 23s 32ms/step - loss: 0.4757 - accuracy: 0.8367 - val_loss: 0.7231 - val_accuracy: 0.7569\n",
            "Epoch 13/50\n",
            "717/717 [==============================] - 23s 32ms/step - loss: 0.4708 - accuracy: 0.8383 - val_loss: 0.7267 - val_accuracy: 0.7551\n",
            "Epoch 14/50\n",
            "717/717 [==============================] - 22s 31ms/step - loss: 0.4494 - accuracy: 0.8443 - val_loss: 0.7538 - val_accuracy: 0.7553\n",
            "Epoch 15/50\n",
            "717/717 [==============================] - 23s 31ms/step - loss: 0.4300 - accuracy: 0.8517 - val_loss: 0.7640 - val_accuracy: 0.7510\n",
            "Epoch 16/50\n",
            "717/717 [==============================] - 23s 32ms/step - loss: 0.4075 - accuracy: 0.8593 - val_loss: 0.7442 - val_accuracy: 0.7645\n",
            "Epoch 17/50\n",
            "717/717 [==============================] - 23s 32ms/step - loss: 0.3984 - accuracy: 0.8641 - val_loss: 0.7791 - val_accuracy: 0.7490\n",
            "Epoch 18/50\n",
            "717/717 [==============================] - 23s 32ms/step - loss: 0.3821 - accuracy: 0.8662 - val_loss: 0.7781 - val_accuracy: 0.7536\n",
            "Epoch 19/50\n",
            "717/717 [==============================] - 23s 32ms/step - loss: 0.3713 - accuracy: 0.8709 - val_loss: 0.9046 - val_accuracy: 0.7287\n",
            "Epoch 20/50\n",
            "717/717 [==============================] - 23s 32ms/step - loss: 0.3668 - accuracy: 0.8732 - val_loss: 0.8007 - val_accuracy: 0.7402\n",
            "Epoch 21/50\n",
            "717/717 [==============================] - 23s 32ms/step - loss: 0.3510 - accuracy: 0.8799 - val_loss: 0.8420 - val_accuracy: 0.7348\n",
            "Epoch 22/50\n",
            "717/717 [==============================] - 23s 32ms/step - loss: 0.3371 - accuracy: 0.8831 - val_loss: 0.8471 - val_accuracy: 0.7414\n",
            "Epoch 23/50\n",
            "717/717 [==============================] - 23s 32ms/step - loss: 0.3271 - accuracy: 0.8850 - val_loss: 0.8914 - val_accuracy: 0.7179\n",
            "Epoch 24/50\n",
            "717/717 [==============================] - 23s 32ms/step - loss: 0.3221 - accuracy: 0.8871 - val_loss: 0.8377 - val_accuracy: 0.7475\n",
            "Epoch 25/50\n",
            "717/717 [==============================] - 23s 32ms/step - loss: 0.3082 - accuracy: 0.8917 - val_loss: 0.8398 - val_accuracy: 0.7436\n",
            "Epoch 26/50\n",
            "717/717 [==============================] - 23s 32ms/step - loss: 0.3088 - accuracy: 0.8926 - val_loss: 0.8258 - val_accuracy: 0.7508\n",
            "Epoch 27/50\n",
            "717/717 [==============================] - 23s 32ms/step - loss: 0.2934 - accuracy: 0.8964 - val_loss: 0.8748 - val_accuracy: 0.7349\n",
            "Epoch 28/50\n",
            "717/717 [==============================] - 23s 32ms/step - loss: 0.2881 - accuracy: 0.9007 - val_loss: 0.8862 - val_accuracy: 0.7405\n",
            "Epoch 29/50\n",
            "717/717 [==============================] - 23s 32ms/step - loss: 0.2782 - accuracy: 0.9042 - val_loss: 0.8678 - val_accuracy: 0.7402\n",
            "Epoch 30/50\n",
            "717/717 [==============================] - 23s 32ms/step - loss: 0.2785 - accuracy: 0.9055 - val_loss: 0.9671 - val_accuracy: 0.7161\n",
            "Epoch 31/50\n",
            "717/717 [==============================] - 23s 32ms/step - loss: 0.2681 - accuracy: 0.9077 - val_loss: 0.9589 - val_accuracy: 0.7252\n",
            "Epoch 32/50\n",
            "717/717 [==============================] - 23s 32ms/step - loss: 0.2681 - accuracy: 0.9043 - val_loss: 0.8960 - val_accuracy: 0.7391\n",
            "Epoch 33/50\n",
            "717/717 [==============================] - 23s 32ms/step - loss: 0.2518 - accuracy: 0.9114 - val_loss: 0.9180 - val_accuracy: 0.7463\n",
            "Epoch 34/50\n",
            "717/717 [==============================] - 23s 32ms/step - loss: 0.2506 - accuracy: 0.9122 - val_loss: 0.9698 - val_accuracy: 0.7301\n",
            "Epoch 35/50\n",
            "717/717 [==============================] - 23s 32ms/step - loss: 0.2502 - accuracy: 0.9121 - val_loss: 0.9110 - val_accuracy: 0.7471\n",
            "Epoch 36/50\n",
            "717/717 [==============================] - 23s 32ms/step - loss: 0.2360 - accuracy: 0.9162 - val_loss: 0.9508 - val_accuracy: 0.7349\n",
            "Epoch 37/50\n",
            "717/717 [==============================] - 23s 32ms/step - loss: 0.2326 - accuracy: 0.9164 - val_loss: 0.9316 - val_accuracy: 0.7400\n",
            "Epoch 38/50\n",
            "717/717 [==============================] - 23s 32ms/step - loss: 0.2330 - accuracy: 0.9179 - val_loss: 0.9665 - val_accuracy: 0.7358\n",
            "Epoch 39/50\n",
            "717/717 [==============================] - 23s 32ms/step - loss: 0.2311 - accuracy: 0.9189 - val_loss: 1.0006 - val_accuracy: 0.7238\n",
            "Epoch 40/50\n",
            "717/717 [==============================] - 23s 32ms/step - loss: 0.2228 - accuracy: 0.9223 - val_loss: 0.9643 - val_accuracy: 0.7313\n",
            "Epoch 41/50\n",
            "717/717 [==============================] - 23s 32ms/step - loss: 0.2252 - accuracy: 0.9215 - val_loss: 1.1497 - val_accuracy: 0.6721\n",
            "Epoch 42/50\n",
            "717/717 [==============================] - 23s 32ms/step - loss: 0.2166 - accuracy: 0.9254 - val_loss: 0.9747 - val_accuracy: 0.7362\n",
            "Epoch 43/50\n",
            "717/717 [==============================] - 23s 32ms/step - loss: 0.2003 - accuracy: 0.9317 - val_loss: 0.9648 - val_accuracy: 0.7363\n",
            "Epoch 44/50\n",
            "717/717 [==============================] - 23s 32ms/step - loss: 0.2043 - accuracy: 0.9297 - val_loss: 1.0254 - val_accuracy: 0.7257\n",
            "Epoch 45/50\n",
            "717/717 [==============================] - 22s 31ms/step - loss: 0.2097 - accuracy: 0.9275 - val_loss: 0.9794 - val_accuracy: 0.7311\n",
            "Epoch 46/50\n",
            "717/717 [==============================] - 23s 32ms/step - loss: 0.2039 - accuracy: 0.9315 - val_loss: 1.0239 - val_accuracy: 0.7271\n",
            "Epoch 47/50\n",
            "717/717 [==============================] - 23s 32ms/step - loss: 0.1934 - accuracy: 0.9345 - val_loss: 1.1466 - val_accuracy: 0.6822\n",
            "Epoch 48/50\n",
            "717/717 [==============================] - 23s 31ms/step - loss: 0.1887 - accuracy: 0.9346 - val_loss: 1.0261 - val_accuracy: 0.7274\n",
            "Epoch 49/50\n",
            "717/717 [==============================] - 23s 31ms/step - loss: 0.1899 - accuracy: 0.9340 - val_loss: 1.0229 - val_accuracy: 0.7285\n",
            "Epoch 50/50\n",
            "717/717 [==============================] - 23s 32ms/step - loss: 0.2004 - accuracy: 0.9312 - val_loss: 0.9963 - val_accuracy: 0.7273\n"
          ],
          "name": "stdout"
        }
      ]
    },
    {
      "cell_type": "code",
      "metadata": {
        "id": "UFMV7moWUo2k",
        "outputId": "3dda4426-46dc-45dd-ea7a-8a70b67edd4e",
        "colab": {
          "base_uri": "https://localhost:8080/",
          "height": 531
        }
      },
      "source": [
        "# loss\n",
        "plt.plot(opt.history['loss'], label='train loss')\n",
        "plt.plot(opt.history['val_loss'], label='val loss')\n",
        "plt.legend()\n",
        "plt.show()\n",
        "plt.savefig('LossVal_loss')\n",
        "\n",
        "# accuracies\n",
        "plt.plot(opt.history['accuracy'], label='train acc')\n",
        "plt.plot(opt.history['val_accuracy'], label='val acc')\n",
        "plt.legend()\n",
        "plt.show()\n",
        "plt.savefig('AccVal_acc')\n"
      ],
      "execution_count": null,
      "outputs": [
        {
          "output_type": "display_data",
          "data": {
            "image/png": "[encoded data removed]",
            "text/plain": [
              "<Figure size 432x288 with 1 Axes>"
            ]
          },
          "metadata": {
            "tags": [],
            "needs_background": "light"
          }
        },
        {
          "output_type": "display_data",
          "data": {
            "image/png": "[encoded data removed]",
            "text/plain": [
              "<Figure size 432x288 with 1 Axes>"
            ]
          },
          "metadata": {
            "tags": [],
            "needs_background": "light"
          }
        },
        {
          "output_type": "display_data",
          "data": {
            "text/plain": [
              "<Figure size 432x288 with 0 Axes>"
            ]
          },
          "metadata": {
            "tags": []
          }
        }
      ]
    },
    {
      "cell_type": "markdown",
      "metadata": {
        "id": "fMmDIcaBHBGX"
      },
      "source": [
        "After tuning our previous model with optimum parameters we oberve that our training accuracy incresed more than 90% after 25 epochs.The validation_accuracy has increased more than 70% in only 50 epochs."
      ]
    },
    {
      "cell_type": "code",
      "metadata": {
        "id": "VObH11dU-MGR"
      },
      "source": [
        "model_yaml = model.to_yaml()\n",
        "with open(\"model.yaml\", \"w\") as yaml_file:\n",
        "    yaml_file.write(model_yaml)\n",
        "    \n",
        "model.save(\"model.h5\")"
      ],
      "execution_count": null,
      "outputs": []
    }
  ]
}