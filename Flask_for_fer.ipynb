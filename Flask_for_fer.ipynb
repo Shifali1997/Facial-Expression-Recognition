{
  "nbformat": 4,
  "nbformat_minor": 0,
  "metadata": {
    "colab": {
      "name": "Flask for fer.ipynb",
      "provenance": [],
      "private_outputs": true,
      "collapsed_sections": []
    },
    "kernelspec": {
      "name": "python3",
      "display_name": "Python 3"
    }
  },
  "cells": [
    {
      "cell_type": "code",
      "metadata": {
        "id": "LsQpxSGDbIlp"
      },
      "source": [
        "!pip install flask-ngrok"
      ],
      "execution_count": null,
      "outputs": []
    },
    {
      "cell_type": "markdown",
      "metadata": {
        "id": "9vfHLvkvJCq1"
      },
      "source": [
        "In google colab we use ngrok for using flask"
      ]
    },
    {
      "cell_type": "code",
      "metadata": {
        "id": "_8aTEmyn91lZ"
      },
      "source": [
        "%mkdir templates -p"
      ],
      "execution_count": null,
      "outputs": []
    },
    {
      "cell_type": "code",
      "metadata": {
        "id": "ijB1M3TYOnRK"
      },
      "source": [
        "%mkdir static -p"
      ],
      "execution_count": null,
      "outputs": []
    },
    {
      "cell_type": "code",
      "metadata": {
        "id": "-ZZhKj0YJ3yN"
      },
      "source": [
        "#===============writing html file directly in colab===============\n",
        "%%writefile templates/index1.html\n",
        "<html>\n",
        "\n",
        "<body>\n",
        "    \n",
        "<form action=\"{{url_for('after')}}\" method='POST' enctype='multipart/form-data'>\n",
        "    <input type=\"file\" name='file1'>\n",
        "<input type=\"submit\" name=\"btn\"> \n",
        "</form>\n",
        "\n",
        "</body>\n",
        "\n",
        "</html>"
      ],
      "execution_count": null,
      "outputs": []
    },
    {
      "cell_type": "code",
      "metadata": {
        "id": "7Q9rjZ7GvWaM"
      },
      "source": [
        "#===============writing html file directly in colab===============\n",
        "%%writefile templates/after.html\n",
        "<html>\n",
        "\n",
        "<body>\n",
        "    \n",
        "<img src=\"{{url_for('static', filename='file.jpg')}}\" alt=\"image\" height=52% width = 50%>\n",
        "\n",
        "{{data}}\n",
        "\n",
        "</body>\n",
        "\n",
        "</html>\n"
      ],
      "execution_count": null,
      "outputs": []
    },
    {
      "cell_type": "code",
      "metadata": {
        "id": "1uDH9_jfTsCB"
      },
      "source": [
        "from flask import Flask, render_template, request\n",
        "import cv2\n",
        "from keras.models import load_model\n",
        "from flask_ngrok import run_with_ngrok\n",
        "import numpy as np\n",
        "\n",
        "app = Flask(__name__)\n",
        "run_with_ngrok(app)\n",
        "\n",
        "app.config['SEND_FILE_MAX_AGE_DEFAULT'] = 1\n",
        "\n",
        "@app.route('/')\n",
        "def index():\n",
        "    return render_template('index1.html')\n",
        "\n",
        "@app.route('/after', methods=['GET', 'POST'])\n",
        "def after():\n",
        "    img = request.files['file1']\n",
        "\n",
        "    img.save('static/file.jpg')\n",
        "    image = cv2.imread('static/file.jpg',0)\n",
        "    \n",
        "    image = cv2.resize(image, (48,48))\n",
        "    image = image.reshape(1,48,48,1)\n",
        "    model = load_model(r'/content/drive/My Drive/Kaggel Competition/Facial Expression Recog/model.h5')\n",
        "    prediction = model.predict(image)\n",
        "\n",
        "    label_map =   ['Angry','Disgust','Fear','Happy','Sad','Surprise','Neutral']\n",
        "\n",
        "    prediction = np.argmax(prediction)\n",
        "\n",
        "    final_prediction = label_map[prediction]\n",
        "\n",
        "    return render_template('after.html', data=final_prediction)\n",
        "\n",
        "if __name__ == \"__main__\":\n",
        "    app.run()"
      ],
      "execution_count": null,
      "outputs": []
    }
  ]
}